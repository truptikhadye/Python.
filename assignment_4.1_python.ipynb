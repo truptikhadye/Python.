{
 "cells": [
  {
   "cell_type": "code",
   "execution_count": 1,
   "metadata": {},
   "outputs": [
    {
     "name": "stdout",
     "output_type": "stream",
     "text": [
      "enter the file name:mbox-short.txt\n",
      "Total: 1073437.0\n",
      "Averagr: 39756.92592592593\n"
     ]
    }
   ],
   "source": [
    "#Write a program to look for lines of the form\n",
    "#New Revision: 39772\n",
    "#and extract the number from each of the lines using a regular expression and the findall() method. Compute the average of the numbers and print out the average.\n",
    "\n",
    "\n",
    "import re\n",
    "\n",
    "name=input(\"enter the file name:\")\n",
    "file=open(name)\n",
    "total=0.0\n",
    "count=0\n",
    "for x in file:\n",
    "    y=re.findall(r\"^New Revision:(\\s*[0-9]*)\",x)  \n",
    "    if y:  \n",
    "        total += float(y [0] )               \n",
    "        count += 1                           \n",
    "print(\"Total:\",total)\n",
    "print(\"Averagr:\",total/count)"
   ]
  },
  {
   "cell_type": "code",
   "execution_count": null,
   "metadata": {},
   "outputs": [],
   "source": []
  }
 ],
 "metadata": {
  "kernelspec": {
   "display_name": "Python 3",
   "language": "python",
   "name": "python3"
  },
  "language_info": {
   "codemirror_mode": {
    "name": "ipython",
    "version": 3
   },
   "file_extension": ".py",
   "mimetype": "text/x-python",
   "name": "python",
   "nbconvert_exporter": "python",
   "pygments_lexer": "ipython3",
   "version": "3.7.3"
  }
 },
 "nbformat": 4,
 "nbformat_minor": 2
}
