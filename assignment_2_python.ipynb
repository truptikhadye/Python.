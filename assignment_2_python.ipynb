{
 "cells": [
  {
   "cell_type": "code",
   "execution_count": 1,
   "metadata": {},
   "outputs": [
    {
     "name": "stdout",
     "output_type": "stream",
     "text": [
      "Enter a number:99\n",
      "Enter a number:56\n",
      "Enter a number:54\n",
      "Enter a number:34\n",
      "Enter a number:heyy\n",
      "invalid input\n",
      "Enter a number:done\n",
      "count: 4\n",
      "total: 243.0\n",
      "avg: 60.75\n"
     ]
    }
   ],
   "source": [
    "# Write a program which repeatedly reads numbers until the user enters “done”. Once “done” is entered, print out the total, count, and average of the numbers. If the user enters anything other than a number, detect their mistake using try and except and print an error message and skip to the next number.\n",
    "count=0\n",
    "total=0\n",
    "avg=0\n",
    "while True:\n",
    "    numlist=input(\"Enter a number:\")\n",
    "    try:\n",
    "        numlist=float(numlist)\n",
    "        count=count+1\n",
    "        total=total+numlist\n",
    "        avg=total/count\n",
    "    except:\n",
    "      if numlist == 'Done' or numlist =='done':\n",
    "         break\n",
    "      else:\n",
    "          print(\"invalid input\")\n",
    "print(\"count:\",count)\n",
    "print(\"total:\",total)\n",
    "print(\"avg:\",avg)     "
   ]
  },
  {
   "cell_type": "code",
   "execution_count": 2,
   "metadata": {},
   "outputs": [
    {
     "name": "stdout",
     "output_type": "stream",
     "text": [
      "Enter hours:45\n",
      "Enter rate:6\n",
      "Gross pay= 285.0\n"
     ]
    }
   ],
   "source": [
    "# Rewrite your pay computation (Assg 1 Q3) with time-and-a-half for overtime and create a function called 'computepay' which takes two parameters (hours and rate).\n",
    "\n",
    "\n",
    "\n",
    "hours=input(\"Enter hours:\")\n",
    "rate=input(\"Enter rate:\")\n",
    "h=float(hours)\n",
    "r=float(rate)\n",
    "def computepay(h,r):\n",
    "    if h<=40:\n",
    "        return(h*r)\n",
    "    else:\n",
    "        return(40*r)+(h-40)*(r*1.5)    \n",
    "print(\"Gross pay=\",computepay(h,r))    "
   ]
  },
  {
   "cell_type": "code",
   "execution_count": 3,
   "metadata": {},
   "outputs": [
    {
     "name": "stdout",
     "output_type": "stream",
     "text": [
      "find: 20\n",
      "slicing_string: 0.8475\n"
     ]
    }
   ],
   "source": [
    "# Take the following Python code that stores a string:\n",
    "str =('X-DSPAM-Confidence: 0.8475')\n",
    "print(\"find:\",str.find(\"0.847\"))\n",
    "print(\"slicing_string:\",str[20:50])\n"
   ]
  },
  {
   "cell_type": "code",
   "execution_count": null,
   "metadata": {},
   "outputs": [],
   "source": []
  }
 ],
 "metadata": {
  "kernelspec": {
   "display_name": "Python 3",
   "language": "python",
   "name": "python3"
  },
  "language_info": {
   "codemirror_mode": {
    "name": "ipython",
    "version": 3
   },
   "file_extension": ".py",
   "mimetype": "text/x-python",
   "name": "python",
   "nbconvert_exporter": "python",
   "pygments_lexer": "ipython3",
   "version": "3.7.3"
  }
 },
 "nbformat": 4,
 "nbformat_minor": 2
}
