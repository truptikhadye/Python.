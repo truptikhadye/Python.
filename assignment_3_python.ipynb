{
 "cells": [
  {
   "cell_type": "code",
   "execution_count": 1,
   "metadata": {},
   "outputs": [
    {
     "name": "stdout",
     "output_type": "stream",
     "text": [
      "Please enter a number: 88\n",
      "Please enter a number: 96\n",
      "Please enter a number: 34\n",
      "Please enter a number: 67\n",
      "Please enter a number: done\n",
      "Maximum number:  96\n",
      "Minimum number:  34\n"
     ]
    }
   ],
   "source": [
    "#Rewrite the program that prompts the user for a list of numbers and prints out the maximum and minimum of the numbers at the end when the user enters “done”. Write the program to store the numbers the user enters in a list and use the max() and min() functions to compute the maximum and minimum numbers after the loop completes.\n",
    "\n",
    "numlist = []\n",
    "\n",
    "num = input('Please enter a number: ')\n",
    "\n",
    "while num != 'done' and num != 'DONE':\n",
    "    try:\n",
    "        numlist.append(int(num))\n",
    "        num = input('Please enter a number: ')\n",
    "    except:\n",
    "        num = input(\"Not a number. Please enter a number Or 'done' to finish: \")\n",
    "\n",
    "try:\n",
    "    print('Maximum number: ', max(numlist))        \n",
    "    print('Minimum number: ', min(numlist))\n",
    "except:\n",
    "   print('NO INPUT!')\n"
   ]
  },
  {
   "cell_type": "code",
   "execution_count": null,
   "metadata": {},
   "outputs": [],
   "source": []
  }
 ],
 "metadata": {
  "kernelspec": {
   "display_name": "Python 3",
   "language": "python",
   "name": "python3"
  },
  "language_info": {
   "codemirror_mode": {
    "name": "ipython",
    "version": 3
   },
   "file_extension": ".py",
   "mimetype": "text/x-python",
   "name": "python",
   "nbconvert_exporter": "python",
   "pygments_lexer": "ipython3",
   "version": "3.7.3"
  }
 },
 "nbformat": 4,
 "nbformat_minor": 2
}
