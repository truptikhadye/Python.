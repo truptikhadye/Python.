{
 "cells": [
  {
   "cell_type": "code",
   "execution_count": 1,
   "metadata": {},
   "outputs": [
    {
     "name": "stdout",
     "output_type": "stream",
     "text": [
      "Enter a name:trupti\n",
      "Hello, trupti\n"
     ]
    }
   ],
   "source": [
    "# Write a program that uses input() to prompt a user for their name and then welcomes them.\n",
    "Name=input(\"Enter a name:\")\n",
    "print(\"Hello,\",Name)"
   ]
  },
  {
   "cell_type": "code",
   "execution_count": 2,
   "metadata": {},
   "outputs": [
    {
     "name": "stdout",
     "output_type": "stream",
     "text": [
      "Enter temperature in celcius:39\n",
      "Converting the given celcius in fahrenheit: 102.2\n"
     ]
    }
   ],
   "source": [
    "# Write a program which prompts the user for a Celsius temperature, convert the temperature to Fahrenheit, and print out the converted temperature. (Use your own ideas for user prompt statements, and output print)\n",
    "Celsius=int(input(\"Enter temperature in celcius:\"))\n",
    "Fahrenheit=float(Celsius*(9/5)+32)\n",
    "print(\"Converting the given celcius in fahrenheit:\",Fahrenheit)\n"
   ]
  },
  {
   "cell_type": "code",
   "execution_count": 3,
   "metadata": {},
   "outputs": [
    {
     "name": "stdout",
     "output_type": "stream",
     "text": [
      "Enter hours:36\n",
      "Enter rate per hour:9\n",
      "Gross pay= 324.0\n"
     ]
    }
   ],
   "source": [
    "#. Write a program to prompt the user for hours and rate per hour to compute gross pay. Your pay computation should be to give the employee 1.5 times the hourly rate for hours worked above 40 hours. (Both 'hours' and 'Rate' are inputs from the user)\n",
    "hours=input(\"Enter hours:\")\n",
    "rate=input(\"Enter rate per hour:\")\n",
    "h=float(hours)\n",
    "r=float(rate)\n",
    "if h<=40:\n",
    "    print(\"Gross pay=\",h*r)\n",
    "else:\n",
    "    print(\"Gross pay=\",(40*r)+(h-40)*(r*1.5))"
   ]
  },
  {
   "cell_type": "code",
   "execution_count": 4,
   "metadata": {},
   "outputs": [
    {
     "name": "stdout",
     "output_type": "stream",
     "text": [
      "Enter hours:55\n",
      "Enter rate per hour:5\n",
      "Gross pay= 312.5\n"
     ]
    }
   ],
   "source": [
    "# Rewrite your pay program using try and except so that your program handles non-numeric input gracefully by printing a message and exiting the program. The following shows two executions of the program:\n",
    "hours=input(\"Enter hours:\")\n",
    "try:\n",
    "    h=float(hours)\n",
    "except:\n",
    "    print(\"Error please enter a numeric input.\")\n",
    "\n",
    "rate=input(\"Enter rate per hour:\")\n",
    "try:\n",
    "    r=float(rate)\n",
    "except:\n",
    "    print(\"Error please enter a per hour\")\n",
    "if h<=40:\n",
    "    print(\"Gross pay=\",h*r)\n",
    "else:\n",
    "    print(\"Gross pay=\",(40*r)+(h-40)*(r*1.5))"
   ]
  },
  {
   "cell_type": "code",
   "execution_count": 5,
   "metadata": {},
   "outputs": [
    {
     "name": "stdout",
     "output_type": "stream",
     "text": [
      "List=(45,708,86,102,3,321,444)\n",
      "The smallest number from the above list is 3\n"
     ]
    }
   ],
   "source": [
    "# Write a program to find the smallest number in the list [45, 708, 86, 102, 3, 321, 444]. (You can create your own list with at least 6 numbers.)\n",
    "print(\"List=(45,708,86,102,3,321,444)\")\n",
    "small=[45,708,86,102,3,321,444]\n",
    "min(small)\n",
    "print(\"The smallest number from the above list is\",min(small))\n"
   ]
  },
  {
   "cell_type": "code",
   "execution_count": null,
   "metadata": {},
   "outputs": [],
   "source": []
  }
 ],
 "metadata": {
  "kernelspec": {
   "display_name": "Python 3",
   "language": "python",
   "name": "python3"
  },
  "language_info": {
   "codemirror_mode": {
    "name": "ipython",
    "version": 3
   },
   "file_extension": ".py",
   "mimetype": "text/x-python",
   "name": "python",
   "nbconvert_exporter": "python",
   "pygments_lexer": "ipython3",
   "version": "3.7.3"
  }
 },
 "nbformat": 4,
 "nbformat_minor": 2
}
